{
 "cells": [
  {
   "cell_type": "code",
   "execution_count": 83,
   "metadata": {},
   "outputs": [],
   "source": [
    "import numpy as np\n",
    "import matplotlib.pyplot as plt\n",
    "\n",
    "from patrolling.elevation_map import load_heightmapgrid_from_bag, visualize_elevationmap\n",
    "from patrolling.graph import load_graph_from_npz"
   ]
  },
  {
   "cell_type": "markdown",
   "metadata": {},
   "source": [
    "# Load the graphs and visualize them with the height map"
   ]
  },
  {
   "cell_type": "code",
   "execution_count": 84,
   "metadata": {},
   "outputs": [],
   "source": [
    "origin_resolution = np.load('assets/cde-b-assets/polypixel.heightmap.origin-resolution.npz')\n",
    "background_grey = plt.imread('assets/cde-b-assets/polypixel.heightmap.greyscale.png')\n",
    "\n",
    "origin = origin_resolution['origin']\n",
    "resolution = origin_resolution['resolution']\n",
    "\n",
    "ground_graph = load_graph_from_npz('assets/cde-b-assets/polypixel_ground_graph_metric.npz')\n",
    "quad_graph = load_graph_from_npz('assets/cde-b-assets/polypixel_quad_graph_metric.npz')"
   ]
  },
  {
   "cell_type": "code",
   "execution_count": null,
   "metadata": {},
   "outputs": [],
   "source": []
  }
 ],
 "metadata": {
  "kernelspec": {
   "display_name": "Python 3",
   "language": "python",
   "name": "python3"
  },
  "language_info": {
   "codemirror_mode": {
    "name": "ipython",
    "version": 3
   },
   "file_extension": ".py",
   "mimetype": "text/x-python",
   "name": "python",
   "nbconvert_exporter": "python",
   "pygments_lexer": "ipython3",
   "version": "3.7.6"
  }
 },
 "nbformat": 4,
 "nbformat_minor": 4
}
